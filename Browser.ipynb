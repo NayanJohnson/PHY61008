{
 "cells": [
  {
   "cell_type": "code",
   "execution_count": 3,
   "metadata": {},
   "outputs": [
    {
     "output_type": "stream",
     "name": "stdout",
     "text": [
      "Welcome to JupyROOT 6.22/05\n"
     ]
    }
   ],
   "source": [
    "from ROOT import gSystem, gInterpreter, TChain, TH1F, TLorentzVector\n",
    "\n",
    "# Path of Delphes directory \n",
    "# Personal laptop path\n",
    "gSystem.AddDynamicPath(\"/home/nayan/MG5_aMC_v2_8_2/Delphes/\")\n",
    "# Cluster path\n",
    "# ROOT.gSystem.AddDynamicPath(\"/home/johnson/MG5_aMC_v2_4_3/Delphes/\")\n",
    "gSystem.Load(\"libDelphes\")\n",
    "\n",
    "gInterpreter.Declare('#include \"classes/DelphesClasses.h\"')\n",
    "gInterpreter.Declare('#include \"external/ExRootAnalysis/ExRootTreeReader.h\"')\n",
    "\n",
    "from ROOT import ExRootTreeReader\n"
   ]
  },
  {
   "cell_type": "code",
   "execution_count": 4,
   "metadata": {},
   "outputs": [
    {
     "output_type": "execute_result",
     "data": {
      "text/plain": [
       "10000"
      ]
     },
     "metadata": {},
     "execution_count": 4
    }
   ],
   "source": [
    "filename = \"tag_1_delphes_events.root\"\n",
    "\n",
    "# Create chain of root trees \n",
    "chain = TChain(\"Delphes\")\n",
    "chain.Add(filename)\n",
    "\n",
    "# Create object of class ExRootTreeReader\n",
    "myTree = ExRootTreeReader(chain)\n",
    "Events = myTree.GetEntries()\n",
    "Events"
   ]
  },
  {
   "cell_type": "code",
   "execution_count": 13,
   "metadata": {},
   "outputs": [
    {
     "output_type": "stream",
     "name": "stdout",
     "text": [
      "** WARNING: branch 'Event' is already in use\n** WARNING: branch 'Particle' is already in use\n** WARNING: branch 'GenJet' is already in use\n"
     ]
    }
   ],
   "source": [
    "# Get pointers to branches used in this analysis\n",
    "branchEvent = myTree.UseBranch(\"Event\")\n",
    "branchParticle = myTree.UseBranch(\"Particle\")\n",
    "# branchElectron = myTree.UseBranch(\"Electron\")\n",
    "# branchMuon = myTree.UseBranch(\"Muon\")\n",
    "# branchJet = myTree.UseBranch(\"Jet\")\n",
    "branchGenJets = myTree.UseBranch(\"GenJet\")\n",
    "branchMissingET = myTree.UseBranch(\"MissingET\")"
   ]
  },
  {
   "cell_type": "code",
   "execution_count": null,
   "metadata": {
    "tags": []
   },
   "outputs": [],
   "source": [
    "Branch = branchMissingET\n",
    "\n",
    "status = []\n",
    "event = []\n",
    "s = 1\n",
    "status_count = 0\n",
    "for n in range(Events):\n",
    "\n",
    "    myTree.ReadEntry(n)\n",
    "\n",
    "    particle = Branch.At(0)\n",
    "    print(particle.P4().Print())\n",
    "    # for i in range(Branch.GetEntries()) :\n",
    "    #     particle = Branch.At(i)\n",
    "    #     print(particle.P4().Print())\n",
    "\n"
   ]
  },
  {
   "cell_type": "code",
   "execution_count": 9,
   "metadata": {},
   "outputs": [],
   "source": [
    "from ROOT import TMath\n",
    "\n",
    "def comparison(A, B, Eta=True, Phi=True, Rapidity=True, R_Eta=True, R_Rap=True ):\n",
    "    '''\n",
    "    Given two particles will compute dEta, dPhi, dRapidty and two different versions of dR (one using dEta and one using dRapidity)\n",
    "    A, B = Particle branch\n",
    "    Eta, Phi, Rapidity, R = what comparisons to compute\n",
    "    '''\n",
    "    \n",
    "    # Default values\n",
    "    dEta, dPhi, dRapidity, dR_Eta, dR_Rap = 'NA', 'NA', 'NA', 'NA', 'NA'\n",
    "    Pi = TMath.Pi()\n",
    "    \n",
    "    \n",
    "    if Eta:\n",
    "        dEta = A.Eta - B.Eta\n",
    "        \n",
    "    if Phi:\n",
    "        dPhi = A.Phi - B.Phi\n",
    "    \n",
    "        # Constraining dPhi between -2Pi and 2Pi\n",
    "        if dPhi < -Pi:\n",
    "            dPhi = dPhi + 2*Pi\n",
    "        elif dPhi > Pi:\n",
    "            dPhi = dPhi - 2*Pi\n",
    "    \n",
    "    if Rapidity:\n",
    "        dRapidity = A.Rapidity - B.Rapidity\n",
    "    \n",
    "    if R_Eta and Phi and Eta:\n",
    "        dR_Eta = (dPhi**2 + dEta**2)**0.5\n",
    "        \n",
    "    if R_Rap and Phi and Rapidity:\n",
    "        dR_Rap = (dPhi**2 + dRapidity**2)**0.5\n",
    "    \n",
    "    return (dEta, dPhi, dRapidity, dR_Eta, dR_Rap)"
   ]
  }
 ],
 "metadata": {
  "kernelspec": {
   "name": "python38564bit9d7599b715e844e0a129ccb7f23630fc",
   "display_name": "Python 3.8.5 64-bit"
  },
  "language_info": {
   "codemirror_mode": {
    "name": "ipython",
    "version": 3
   },
   "file_extension": ".py",
   "mimetype": "text/x-python",
   "name": "python",
   "nbconvert_exporter": "python",
   "pygments_lexer": "ipython3",
   "version": "3.8.5"
  },
  "metadata": {
   "interpreter": {
    "hash": "916dbcbb3f70747c44a77c7bcd40155683ae19c65e1c03b4aa3499c5328201f1"
   }
  }
 },
 "nbformat": 4,
 "nbformat_minor": 4
}